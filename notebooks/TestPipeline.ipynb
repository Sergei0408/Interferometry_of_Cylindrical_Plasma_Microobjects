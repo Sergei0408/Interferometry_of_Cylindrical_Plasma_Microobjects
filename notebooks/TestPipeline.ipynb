{
  "cells": [
    {
      "cell_type": "markdown",
      "metadata": {
        "id": "kQGVWWGjJP5g"
      },
      "source": [
        "Клонируем репозиторий:"
      ]
    },
    {
      "cell_type": "code",
      "execution_count": null,
      "metadata": {
        "id": "TkrB_2fXz-sY"
      },
      "outputs": [],
      "source": [
        "!git clone https://github.com/Sergei0408/Interferometry_of_Cylindrical_Plasma_Microobjects.git"
      ]
    },
    {
      "cell_type": "markdown",
      "metadata": {
        "id": "ajE3Ni5OJP5t"
      },
      "source": [
        "Перейдём в директорию, которая соотвествует репозиторию:"
      ]
    },
    {
      "cell_type": "code",
      "execution_count": null,
      "metadata": {
        "id": "J6_YpEStY8vM"
      },
      "outputs": [],
      "source": [
        "%cd /content/Interferometry_of_Cylindrical_Plasma_Microobjects"
      ]
    },
    {
      "cell_type": "markdown",
      "metadata": {
        "id": "2G4kWEqoJP5w"
      },
      "source": [
        "Установим необходимые зависимости:"
      ]
    },
    {
      "cell_type": "code",
      "execution_count": null,
      "metadata": {
        "id": "SuSh7aqCJP5y"
      },
      "outputs": [],
      "source": [
        "!pip install -q -r requirements.txt"
      ]
    },
    {
      "cell_type": "markdown",
      "metadata": {
        "id": "Zfr1MIwqJP51"
      },
      "source": [
        "Скачаем и разархивируем данные:"
      ]
    },
    {
      "cell_type": "code",
      "execution_count": null,
      "metadata": {
        "id": "OmAz-VKlJP53"
      },
      "outputs": [],
      "source": [
        "import zipfile\n",
        "import gdown"
      ]
    },
    {
      "cell_type": "code",
      "execution_count": null,
      "metadata": {
        "id": "18R3FL4EJP54"
      },
      "outputs": [],
      "source": [
        "!mkdir /content/data\n",
        "!gdown 1cDDcSrABFRlclVTYBIdeOkQYKyI7CvAn -O /content/data/interferograms.zip"
      ]
    },
    {
      "cell_type": "code",
      "execution_count": null,
      "metadata": {
        "id": "FpaN1Qn9JP56"
      },
      "outputs": [],
      "source": [
        "z = zipfile.ZipFile('/content/data/interferograms.zip', 'r')\n",
        "z.extractall('/content/data/'"
      ]
    },
    {
      "cell_type": "markdown",
      "metadata": {
        "id": "o_vRkmaLJP57"
      },
      "source": [
        "Импортируем функцию, которая запускает пайплайн тестирования на основе файла конфигурации:"
      ]
    },
    {
      "cell_type": "code",
      "execution_count": null,
      "metadata": {
        "id": "Nm7resN2fp5_"
      },
      "outputs": [],
      "source": [
        "from src.test import load_config, inference"
      ]
    },
    {
      "cell_type": "markdown",
      "metadata": {
        "id": "agte2WDMJP59"
      },
      "source": [
        "Конфигурация для тестирования модели (см. `configs/test.yaml`):"
      ]
    },
    {
      "cell_type": "code",
      "execution_count": null,
      "metadata": {
        "id": "TSRx5Jr_NuvV"
      },
      "outputs": [],
      "source": [
        "test_config = load_config('experiments/configs/test.yaml')"
      ]
    },
    {
      "cell_type": "markdown",
      "metadata": {
        "id": "xjnqNWN_JP6A"
      },
      "source": [
        "Запускаем тестирование модели:"
      ]
    },
    {
      "cell_type": "code",
      "execution_count": null,
      "metadata": {
        "id": "k2_4tUk0OwTb"
      },
      "outputs": [],
      "source": [
        "inference(test_config)"
      ]
    }
  ],
  "metadata": {
    "accelerator": "GPU",
    "colab": {
      "gpuType": "T4",
      "provenance": []
    },
    "kernelspec": {
      "display_name": "Python 3",
      "name": "python3"
    },
    "language_info": {
      "name": "python"
    }
  },
  "nbformat": 4,
  "nbformat_minor": 0
}