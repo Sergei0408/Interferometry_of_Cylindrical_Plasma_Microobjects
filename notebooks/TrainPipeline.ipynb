{
  "cells": [
    {
      "cell_type": "markdown",
      "metadata": {
        "id": "yS3e-NlgA_gT"
      },
      "source": [
        "Клонируем репозиторий:"
      ]
    },
    {
      "cell_type": "code",
      "execution_count": null,
      "metadata": {
        "id": "TkrB_2fXz-sY"
      },
      "outputs": [],
      "source": [
        "!git clone https://github.com/Sergei0408/Interferometry_of_Cylindrical_Plasma_Microobjects.git"
      ]
    },
    {
      "cell_type": "markdown",
      "metadata": {
        "id": "bg_QZVfyA_gV"
      },
      "source": [
        "Перейдём в директорию, которая соотвествует репозиторию:"
      ]
    },
    {
      "cell_type": "code",
      "execution_count": null,
      "metadata": {
        "id": "J6_YpEStY8vM"
      },
      "outputs": [],
      "source": [
        "%cd /content/Interferometry_of_Cylindrical_Plasma_Microobjects"
      ]
    },
    {
      "cell_type": "markdown",
      "metadata": {
        "id": "b1CBWyX9A_gW"
      },
      "source": [
        "Установим необходимые зависимости:"
      ]
    },
    {
      "cell_type": "code",
      "execution_count": null,
      "metadata": {
        "id": "k50JtIA1olgg"
      },
      "outputs": [],
      "source": [
        "!pip install -q -r requirements.txt"
      ]
    },
    {
      "cell_type": "markdown",
      "metadata": {
        "id": "AotdRFEKA_gW"
      },
      "source": [
        "Скачаем и разархивируем данные:"
      ]
    },
    {
      "cell_type": "code",
      "execution_count": 4,
      "metadata": {
        "id": "EsJ4pvc8A_gX"
      },
      "outputs": [],
      "source": [
        "import zipfile\n",
        "import gdown"
      ]
    },
    {
      "cell_type": "code",
      "execution_count": null,
      "metadata": {
        "id": "gdPzRDWMA_gX"
      },
      "outputs": [],
      "source": [
        "!mkdir /content/data\n",
        "!gdown 1cDDcSrABFRlclVTYBIdeOkQYKyI7CvAn -O /content/data/interferograms.zip"
      ]
    },
    {
      "cell_type": "code",
      "execution_count": 6,
      "metadata": {
        "id": "Tlp1cTRLA_gY"
      },
      "outputs": [],
      "source": [
        "z = zipfile.ZipFile('/content/data/interferograms.zip', 'r')\n",
        "z.extractall('/content/data/')"
      ]
    },
    {
      "cell_type": "markdown",
      "metadata": {
        "id": "NS_bW9NAA_gZ"
      },
      "source": [
        "Импортируем функцию, которая запускает пайплайн обучения на основе файла конфигурации:"
      ]
    },
    {
      "cell_type": "code",
      "execution_count": null,
      "metadata": {
        "id": "Nm7resN2fp5_"
      },
      "outputs": [],
      "source": [
        "from src.train import load_config, train"
      ]
    },
    {
      "cell_type": "markdown",
      "metadata": {
        "id": "HZvjMLRXA_gZ"
      },
      "source": [
        "Конфигурация для обучения модели (см. `configs/train.yaml`):"
      ]
    },
    {
      "cell_type": "code",
      "execution_count": 16,
      "metadata": {
        "id": "b2gRbLoMd6A4"
      },
      "outputs": [],
      "source": [
        "train_head_config = load_config('./experiments/configs/train_head.yaml')"
      ]
    },
    {
      "cell_type": "markdown",
      "metadata": {
        "id": "muwG9r1KA_ga"
      },
      "source": [
        "Запустим TensorBoard, в случае если мы работаем в Google Colab:"
      ]
    },
    {
      "cell_type": "code",
      "execution_count": null,
      "metadata": {
        "id": "e1OrI_46A_ga"
      },
      "outputs": [],
      "source": [
        "IM_IN_COLAB = True\n",
        "if IM_IN_COLAB:\n",
        "    %load_ext tensorboard\n",
        "    %tensorboard --logdir {train_head_config['exp_path']}"
      ]
    },
    {
      "cell_type": "markdown",
      "metadata": {
        "id": "bUjAZq0GA_ga"
      },
      "source": [
        "Запускаем обучение модели:"
      ]
    },
    {
      "cell_type": "code",
      "source": [
        "train(train_head_config)"
      ],
      "metadata": {
        "id": "yWqBVg5pR3pe"
      },
      "execution_count": null,
      "outputs": []
    },
    {
      "cell_type": "markdown",
      "metadata": {
        "id": "-O3tPYo9A_gb"
      },
      "source": [
        "Конфигурация для fine-tunning модели (см. `configs/finetunning.yaml`):"
      ]
    },
    {
      "cell_type": "code",
      "execution_count": null,
      "metadata": {
        "id": "w8uLrljlA_gb"
      },
      "outputs": [],
      "source": [
        "finetunning_config = load_config('experiments/configs/finetunning.yaml')"
      ]
    },
    {
      "cell_type": "markdown",
      "metadata": {
        "id": "ZMORCIWfA_gb"
      },
      "source": [
        "Запускаем fine-tunning модели:"
      ]
    },
    {
      "cell_type": "code",
      "execution_count": null,
      "metadata": {
        "id": "BCV1P01gA_gb"
      },
      "outputs": [],
      "source": [
        "train(finetunning_config)"
      ]
    }
  ],
  "metadata": {
    "colab": {
      "provenance": [],
      "gpuType": "T4"
    },
    "kernelspec": {
      "display_name": "Python 3",
      "name": "python3"
    },
    "language_info": {
      "name": "python"
    },
    "accelerator": "GPU"
  },
  "nbformat": 4,
  "nbformat_minor": 0
}